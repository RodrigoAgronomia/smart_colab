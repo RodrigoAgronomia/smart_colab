{
 "cells": [
  {
   "cell_type": "code",
   "execution_count": 1,
   "metadata": {
    "colab": {},
    "colab_type": "code",
    "id": "wuq9h3msN237"
   },
   "outputs": [],
   "source": [
    "#Importação das bibliotecas necessárias para rodar o código\n",
    "%matplotlib inline\n",
    "\n",
    "import numpy as np\n",
    "import pandas as pd\n",
    "import cv2\n",
    "import os\n",
    "import matplotlib.pyplot as plt\n",
    "import re\n",
    "import Augmentor"
   ]
  },
  {
   "cell_type": "code",
   "execution_count": 2,
   "metadata": {},
   "outputs": [],
   "source": [
    "#Define o mapa de cores para geração da máscara\n",
    "def colorir(cat):\n",
    "    h, w = cat.shape[:2]\n",
    "    msk = np.zeros((h,w,3), dtype = 'uint8')\n",
    "    msk[cat == 1] = [0,255,0]\n",
    "    return(msk)"
   ]
  },
  {
   "cell_type": "code",
   "execution_count": 6,
   "metadata": {
    "colab": {},
    "colab_type": "code",
    "id": "JAGc2gGZN24E"
   },
   "outputs": [],
   "source": [
    "#Definição das pastas necessárias para rodar o script\n",
    "img_dir = '../../Datasets/SoybeanTS/GP/' \n",
    "s_dir = '../../Datasets/SoybeanTS/augmented/'\n",
    "\n",
    "anotacao = '../data/via_anot_GP.csv'"
   ]
  },
  {
   "cell_type": "code",
   "execution_count": 7,
   "metadata": {
    "colab": {
     "base_uri": "https://localhost:8080/",
     "height": 54
    },
    "colab_type": "code",
    "id": "rMz3dQfsN24I",
    "outputId": "d03bc3af-eedf-4a0c-9144-12c76fc3019b"
   },
   "outputs": [
    {
     "name": "stdout",
     "output_type": "stream",
     "text": [
      "28\n"
     ]
    }
   ],
   "source": [
    "#Apresenta as imagens dentro do diretório com o respectivo formato da imagem\n",
    "img_list = os.listdir(img_dir)\n",
    "img_list = [v for v in img_list if v.endswith('.JPG')]\n",
    "img_list = sorted(img_list)\n",
    "print(len(img_list))"
   ]
  },
  {
   "cell_type": "code",
   "execution_count": 5,
   "metadata": {
    "colab": {
     "base_uri": "https://localhost:8080/",
     "height": 1025
    },
    "colab_type": "code",
    "id": "rkCeOJ8iN24W",
    "outputId": "017ed8fb-97e4-40df-d364-7c23af960d6b"
   },
   "outputs": [
    {
     "name": "stdout",
     "output_type": "stream",
     "text": [
      "../../Datasets/SoybeanTS/GP/DJI_0344_msk.png\n",
      "../../Datasets/SoybeanTS/GP/DJI_0345_msk.png\n",
      "../../Datasets/SoybeanTS/GP/DJI_0346_msk.png\n",
      "../../Datasets/SoybeanTS/GP/DJI_0347_msk.png\n",
      "../../Datasets/SoybeanTS/GP/DJI_0348_msk.png\n"
     ]
    }
   ],
   "source": [
    "csv_file = pd.read_csv(anotacao,index_col = False) #Faz a leitura do arquivo .csv\n",
    "\n",
    "images = []\n",
    "for img in img_list:\n",
    "    lista = csv_file[csv_file.filename == img] #Recebe os dados encontrados dentro do csv para a imagem em questão\n",
    "    tamanho = lista.shape\n",
    "\n",
    "    if tamanho[0] > 1:\n",
    "        imagem = cv2.imread(os.path.join(img_dir, img)) #Carrega a imagem em questão\n",
    "\n",
    "        # Importa a mascara do indice de vegetacao:\n",
    "        msk = np.zeros(imagem.shape[:2], dtype = 'float32') #Carrega as informações do tamanho da imagem\n",
    "        msk_name = os.path.join(img_dir, img.replace('.JPG', '_msk.png')) #Faz a junção do diretório com o nome da imagem, alterando seu formato\n",
    "\n",
    "\n",
    "        if tamanho[0] > 1:\n",
    "            for i in range(tamanho[0]):\n",
    "                line = lista.iloc[i,:] #Recebe todas as marcações realizadas dentro daquela imagem\n",
    "                region_shape = line.region_shape_attributes #Informa a posição onde o ponto se encontra\n",
    "                region_attributes = (line.region_attributes) #Informa a classe do ponto\n",
    "                region_attributes = re.findall('\"([^\"]*)\"', region_attributes) #Faz a separação para encontrar a qual classe pertence o ponto marcado\n",
    "                coords = [float(s) for s in re.findall(r'-?\\d+\\.?\\d*', region_shape)] #Encontrando valores de x e y\n",
    "                cx = int(coords[0]) #Coordenadas no eixo X\n",
    "                cy = int(coords[1]) #Coordenadas no eixo y\n",
    "\n",
    "                cv2.circle(msk, (cx,cy), 10, 1, -1)\n",
    "\n",
    "        print(msk_name) #Apresenta o nome da máscara com o diretório a ser salvo\n",
    "        cv2.imwrite(msk_name, msk.astype('uint8')) #Realiza o salvamento do background\n",
    "        \n",
    "        im_l = [imagem, msk]\n",
    "        images.append(im_l)\n"
   ]
  },
  {
   "cell_type": "code",
   "execution_count": 8,
   "metadata": {},
   "outputs": [],
   "source": [
    "p = Augmentor.DataPipeline(images)\n",
    "\n",
    "p.crop_by_size(1, 512, 512, centre = False)\n",
    "p.flip_left_right(probability=0.5)\n",
    "p.flip_top_bottom(probability=0.5)\n",
    "p.random_distortion(probability=0.1, grid_width=4, grid_height=4, magnitude=4)\n",
    "p.resize(probability=1.0, width=512, height=512)"
   ]
  },
  {
   "cell_type": "code",
   "execution_count": 9,
   "metadata": {},
   "outputs": [],
   "source": [
    "augmented_images = p.sample(100)"
   ]
  },
  {
   "cell_type": "code",
   "execution_count": 10,
   "metadata": {},
   "outputs": [],
   "source": [
    "try:\n",
    "    os.mkdir(s_dir)\n",
    "except:\n",
    "    pass\n",
    "for i, img in enumerate(augmented_images):\n",
    "    img_name = 'RGB_{0:04d}_img.jpg'.format(i + 1)\n",
    "    msk_name = 'RGB_{0:04d}_msk.png'.format(i + 1)\n",
    "    col_name = 'RGB_{0:04d}_col.png'.format(i + 1)\n",
    "    cv2.imwrite(os.path.join(s_dir, img_name), img[0])\n",
    "    cv2.imwrite(os.path.join(s_dir, msk_name), img[1])    \n",
    "    cv2.imwrite(os.path.join(s_dir, col_name), colorir(img[1]))\n"
   ]
  },
  {
   "cell_type": "code",
   "execution_count": null,
   "metadata": {},
   "outputs": [],
   "source": []
  }
 ],
 "metadata": {
  "accelerator": "GPU",
  "colab": {
   "collapsed_sections": [],
   "include_colab_link": true,
   "name": "Copy of Copy of Draw_Mask_VIA_csv.ipynb",
   "provenance": [],
   "version": "0.3.2"
  },
  "kernelspec": {
   "display_name": "Python 3",
   "language": "python",
   "name": "python3"
  },
  "language_info": {
   "codemirror_mode": {
    "name": "ipython",
    "version": 3
   },
   "file_extension": ".py",
   "mimetype": "text/x-python",
   "name": "python",
   "nbconvert_exporter": "python",
   "pygments_lexer": "ipython3",
   "version": "3.6.7"
  }
 },
 "nbformat": 4,
 "nbformat_minor": 1
}
